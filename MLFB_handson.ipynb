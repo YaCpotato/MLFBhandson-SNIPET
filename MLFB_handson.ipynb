{
  "nbformat": 4,
  "nbformat_minor": 0,
  "metadata": {
    "colab": {
      "name": "MLFB_handson.ipynb",
      "provenance": [],
      "collapsed_sections": []
    },
    "kernelspec": {
      "name": "python3",
      "display_name": "Python 3"
    }
  },
  "cells": [
    {
      "cell_type": "code",
      "metadata": {
        "id": "tXLuvb24Qq5E",
        "colab_type": "code",
        "outputId": "119c26be-95aa-45e5-ce97-15a8d426e588",
        "colab": {
          "base_uri": "https://localhost:8080/",
          "height": 206
        }
      },
      "source": [
        "from sklearn.datasets import load_boston\n",
        "boston = load_boston() # データセットの読み込み\n",
        "import pandas as pd\n",
        "boston_df = pd.DataFrame(boston.data, columns = boston.feature_names) # 説明変数(boston.data)をDataFrameに保存\n",
        "boston_df['MEDV'] = boston.target # 目的変数(boston.target)もDataFrameに追加\n",
        "boston_df.head()"
      ],
      "execution_count": 1,
      "outputs": [
        {
          "output_type": "execute_result",
          "data": {
            "text/html": [
              "<div>\n",
              "<style scoped>\n",
              "    .dataframe tbody tr th:only-of-type {\n",
              "        vertical-align: middle;\n",
              "    }\n",
              "\n",
              "    .dataframe tbody tr th {\n",
              "        vertical-align: top;\n",
              "    }\n",
              "\n",
              "    .dataframe thead th {\n",
              "        text-align: right;\n",
              "    }\n",
              "</style>\n",
              "<table border=\"1\" class=\"dataframe\">\n",
              "  <thead>\n",
              "    <tr style=\"text-align: right;\">\n",
              "      <th></th>\n",
              "      <th>CRIM</th>\n",
              "      <th>ZN</th>\n",
              "      <th>INDUS</th>\n",
              "      <th>CHAS</th>\n",
              "      <th>NOX</th>\n",
              "      <th>RM</th>\n",
              "      <th>AGE</th>\n",
              "      <th>DIS</th>\n",
              "      <th>RAD</th>\n",
              "      <th>TAX</th>\n",
              "      <th>PTRATIO</th>\n",
              "      <th>B</th>\n",
              "      <th>LSTAT</th>\n",
              "      <th>MEDV</th>\n",
              "    </tr>\n",
              "  </thead>\n",
              "  <tbody>\n",
              "    <tr>\n",
              "      <th>0</th>\n",
              "      <td>0.00632</td>\n",
              "      <td>18.0</td>\n",
              "      <td>2.31</td>\n",
              "      <td>0.0</td>\n",
              "      <td>0.538</td>\n",
              "      <td>6.575</td>\n",
              "      <td>65.2</td>\n",
              "      <td>4.0900</td>\n",
              "      <td>1.0</td>\n",
              "      <td>296.0</td>\n",
              "      <td>15.3</td>\n",
              "      <td>396.90</td>\n",
              "      <td>4.98</td>\n",
              "      <td>24.0</td>\n",
              "    </tr>\n",
              "    <tr>\n",
              "      <th>1</th>\n",
              "      <td>0.02731</td>\n",
              "      <td>0.0</td>\n",
              "      <td>7.07</td>\n",
              "      <td>0.0</td>\n",
              "      <td>0.469</td>\n",
              "      <td>6.421</td>\n",
              "      <td>78.9</td>\n",
              "      <td>4.9671</td>\n",
              "      <td>2.0</td>\n",
              "      <td>242.0</td>\n",
              "      <td>17.8</td>\n",
              "      <td>396.90</td>\n",
              "      <td>9.14</td>\n",
              "      <td>21.6</td>\n",
              "    </tr>\n",
              "    <tr>\n",
              "      <th>2</th>\n",
              "      <td>0.02729</td>\n",
              "      <td>0.0</td>\n",
              "      <td>7.07</td>\n",
              "      <td>0.0</td>\n",
              "      <td>0.469</td>\n",
              "      <td>7.185</td>\n",
              "      <td>61.1</td>\n",
              "      <td>4.9671</td>\n",
              "      <td>2.0</td>\n",
              "      <td>242.0</td>\n",
              "      <td>17.8</td>\n",
              "      <td>392.83</td>\n",
              "      <td>4.03</td>\n",
              "      <td>34.7</td>\n",
              "    </tr>\n",
              "    <tr>\n",
              "      <th>3</th>\n",
              "      <td>0.03237</td>\n",
              "      <td>0.0</td>\n",
              "      <td>2.18</td>\n",
              "      <td>0.0</td>\n",
              "      <td>0.458</td>\n",
              "      <td>6.998</td>\n",
              "      <td>45.8</td>\n",
              "      <td>6.0622</td>\n",
              "      <td>3.0</td>\n",
              "      <td>222.0</td>\n",
              "      <td>18.7</td>\n",
              "      <td>394.63</td>\n",
              "      <td>2.94</td>\n",
              "      <td>33.4</td>\n",
              "    </tr>\n",
              "    <tr>\n",
              "      <th>4</th>\n",
              "      <td>0.06905</td>\n",
              "      <td>0.0</td>\n",
              "      <td>2.18</td>\n",
              "      <td>0.0</td>\n",
              "      <td>0.458</td>\n",
              "      <td>7.147</td>\n",
              "      <td>54.2</td>\n",
              "      <td>6.0622</td>\n",
              "      <td>3.0</td>\n",
              "      <td>222.0</td>\n",
              "      <td>18.7</td>\n",
              "      <td>396.90</td>\n",
              "      <td>5.33</td>\n",
              "      <td>36.2</td>\n",
              "    </tr>\n",
              "  </tbody>\n",
              "</table>\n",
              "</div>"
            ],
            "text/plain": [
              "      CRIM    ZN  INDUS  CHAS    NOX  ...    TAX  PTRATIO       B  LSTAT  MEDV\n",
              "0  0.00632  18.0   2.31   0.0  0.538  ...  296.0     15.3  396.90   4.98  24.0\n",
              "1  0.02731   0.0   7.07   0.0  0.469  ...  242.0     17.8  396.90   9.14  21.6\n",
              "2  0.02729   0.0   7.07   0.0  0.469  ...  242.0     17.8  392.83   4.03  34.7\n",
              "3  0.03237   0.0   2.18   0.0  0.458  ...  222.0     18.7  394.63   2.94  33.4\n",
              "4  0.06905   0.0   2.18   0.0  0.458  ...  222.0     18.7  396.90   5.33  36.2\n",
              "\n",
              "[5 rows x 14 columns]"
            ]
          },
          "metadata": {
            "tags": []
          },
          "execution_count": 1
        }
      ]
    },
    {
      "cell_type": "markdown",
      "metadata": {
        "id": "5r1UqD2vmvOR",
        "colab_type": "text"
      },
      "source": [
        "13種類のデータの集合が506個入っています。データの確認方法は、  \n",
        "numpy.ndarray形式のデータなら、　\n",
        "```\n",
        "変数名.shape\n",
        "```\n",
        "で確認できます。"
      ]
    },
    {
      "cell_type": "code",
      "metadata": {
        "id": "1_TfvFmPWqVL",
        "colab_type": "code",
        "outputId": "a38d123f-efc8-42ab-afe6-15e13beb3fa1",
        "colab": {
          "base_uri": "https://localhost:8080/",
          "height": 293
        }
      },
      "source": [
        "import matplotlib.pyplot as plt\n",
        "import seaborn as sns\n",
        "sns.set(style=\"ticks\")\n",
        "plt.style.use('seaborn-whitegrid')\n",
        "plt.scatter(boston_df['RM'], boston_df['MEDV'], color = 'blue') # 平均部屋数と住宅価格の散布図をプロット pyplot.scatter:散布図のプロット\n",
        "\n",
        "plt.title('Rooms and Prices')    # 図のタイトル\n",
        "plt.xlabel('Rooms') # x軸のラベル\n",
        "plt.ylabel('Prices[K]')    # y軸のラベル\n",
        "\n",
        "plt.show()                                 # 図の表示"
      ],
      "execution_count": 2,
      "outputs": [
        {
          "output_type": "display_data",
          "data": {
            "image/png": "[encoded data removed]",
            "text/plain": [
              "<Figure size 432x288 with 1 Axes>"
            ]
          },
          "metadata": {
            "tags": []
          }
        }
      ]
    },
    {
      "cell_type": "code",
      "metadata": {
        "id": "_oKbe1DsWvXW",
        "colab_type": "code",
        "outputId": "704bdfa3-bb88-48e4-9447-d946dd1b7dd5",
        "colab": {
          "base_uri": "https://localhost:8080/",
          "height": 35
        }
      },
      "source": [
        "from sklearn.linear_model import LinearRegression\n",
        "X = boston_df[['RM']].values         # 説明変数（Numpyの配列）\n",
        "Y = boston_df['MEDV'].values         # 目的変数（Numpyの配列）\n",
        "from sklearn.model_selection import train_test_split\n",
        "X_train, X_test, Y_train, Y_test = train_test_split(X, Y, train_size = 0.7, test_size = 0.3, random_state = 0) # データを学習用と検証用に分割\n",
        "\n",
        "lr = LinearRegression()\n",
        "lr.fit(X_train, Y_train) # 線形モデルの重みを学習"
      ],
      "execution_count": 7,
      "outputs": [
        {
          "output_type": "execute_result",
          "data": {
            "text/plain": [
              "LinearRegression(copy_X=True, fit_intercept=True, n_jobs=None, normalize=False)"
            ]
          },
          "metadata": {
            "tags": []
          },
          "execution_count": 7
        }
      ]
    },
    {
      "cell_type": "markdown",
      "metadata": {
        "id": "bIP9vTq1kadO",
        "colab_type": "text"
      },
      "source": [
        "勉強の効果を確かめたいときは、\n",
        "学習に使ってない教材で模擬テストみたいなことしますよね。\n",
        "\n",
        "そんな感じで、機械学習においても、学習用と検証用でデータを分ける必要があります。"
      ]
    },
    {
      "cell_type": "code",
      "metadata": {
        "id": "xD0I7H52W1nl",
        "colab_type": "code",
        "outputId": "c50ee7cc-0cdb-4de9-8886-86904c01528f",
        "colab": {
          "base_uri": "https://localhost:8080/",
          "height": 53
        }
      },
      "source": [
        "print('coefficient = ', lr.coef_[0]) # 説明変数の係数を出力\n",
        "print('intercept = ', lr.intercept_) # 切片を出力"
      ],
      "execution_count": 4,
      "outputs": [
        {
          "output_type": "stream",
          "text": [
            "coefficient =  9.311328063251853\n",
            "intercept =  -35.99434897818352\n"
          ],
          "name": "stdout"
        }
      ]
    },
    {
      "cell_type": "code",
      "metadata": {
        "id": "QJcKmstGW4_W",
        "colab_type": "code",
        "outputId": "7e3369a1-eead-40ab-e358-cd0f447791f0",
        "colab": {
          "base_uri": "https://localhost:8080/",
          "height": 293
        }
      },
      "source": [
        "plt.style.use('seaborn-whitegrid')\n",
        "plt.scatter(X, Y, color = 'blue')         # 説明変数と目的変数のデータ点の散布図をプロット\n",
        "plt.plot(X, lr.predict(X), color = 'red') # 回帰直線をプロット\n",
        "\n",
        "plt.title('Regression Line')               # 図のタイトル\n",
        "plt.xlabel('Rooms') # x軸のラベル\n",
        "plt.ylabel('Prices[K]')    # y軸のラベル\n",
        "plt.grid()                                 # グリッド線を表示\n",
        "\n",
        "plt.show()                                 # 図の表示"
      ],
      "execution_count": 5,
      "outputs": [
        {
          "output_type": "display_data",
          "data": {
            "image/png": "[encoded data removed]",
            "text/plain": [
              "<Figure size 432x288 with 1 Axes>"
            ]
          },
          "metadata": {
            "tags": []
          }
        }
      ]
    },
    {
      "cell_type": "markdown",
      "metadata": {
        "id": "HqTSFz04pFUB",
        "colab_type": "text"
      },
      "source": [
        "線形回帰モデルの性能評価\n",
        "* 残差プロット  \n",
        "残差（目的変数の真値と予測値の差分）を可視化\n",
        "* 平均二乗誤差  \n",
        "残差平方和をデータ数で正規化した値\n",
        "* 決定係数  \n",
        "相関係数の二乗\n"
      ]
    },
    {
      "cell_type": "code",
      "metadata": {
        "id": "7_6HguCZXoTe",
        "colab_type": "code",
        "outputId": "d83bcbd8-d403-4739-b0fd-0c29333ee49b",
        "colab": {
          "base_uri": "https://localhost:8080/",
          "height": 53
        }
      },
      "source": [
        "from sklearn.metrics import mean_squared_error\n",
        "Y_pred = lr.predict(X_test) # 検証データを用いて目的変数を予測\n",
        "Y_train_pred = lr.predict(X_train) # 学習データに対する目的変数を予測\n",
        "print('学習時の平均二乗誤差: ', mean_squared_error(Y_train, Y_train_pred)) # 学習データを用いたときの平均二乗誤差を出力\n",
        "print('検証時の平均二乗誤差: ', mean_squared_error(Y_test, Y_pred))         # 検証データを用いたときの平均二乗誤差を出力"
      ],
      "execution_count": 6,
      "outputs": [
        {
          "output_type": "stream",
          "text": [
            "MSE train data:  42.15765086312224\n",
            "MSE test data:  47.03304747975518\n"
          ],
          "name": "stdout"
        }
      ]
    },
    {
      "cell_type": "code",
      "metadata": {
        "id": "EC2xniXrXwiW",
        "colab_type": "code",
        "outputId": "d5077fdc-eae8-4219-b881-49eee924ec84",
        "colab": {
          "base_uri": "https://localhost:8080/",
          "height": 51
        }
      },
      "source": [
        "from sklearn.metrics import r2_score\n",
        "\n",
        "print('学習時の決定係数: ', r2_score(Y_train, Y_train_pred))\n",
        "print('検証時の決定係数: ', r2_score(Y_test, Y_pred))"
      ],
      "execution_count": 0,
      "outputs": [
        {
          "output_type": "stream",
          "text": [
            "r^2 train data:  0.5026497630040827\n",
            "r^2 test data:  0.43514364832115193\n"
          ],
          "name": "stdout"
        }
      ]
    },
    {
      "cell_type": "code",
      "metadata": {
        "id": "S48cp_3TYGIh",
        "colab_type": "code",
        "colab": {}
      },
      "source": [
        ""
      ],
      "execution_count": 0,
      "outputs": []
    }
  ]
}